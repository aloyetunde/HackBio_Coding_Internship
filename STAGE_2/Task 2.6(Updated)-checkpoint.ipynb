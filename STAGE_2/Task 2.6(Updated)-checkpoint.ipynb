{
 "cells": [
  {
   "cell_type": "markdown",
   "id": "8aa7bb08-5c79-429e-b5c0-98ab623c81d8",
   "metadata": {},
   "source": [
    "### Transcriptomics\n",
    "\n",
    "This is a processed RNAseq dataset involving reading in quantitated gene expression data from an RNA-seq experiment, exploring the data using base Python functions and then interpretation. The dataset contains an experiment between a diseased cell line and diseased cell lines treated with compound X. The difference in expression change between the two health status is computed as Fold change to log 2 (Log2FC) and the significance of each is computed in p-value."
   ]
  },
  {
   "cell_type": "markdown",
   "id": "0d1e2eaf-7341-49c7-bd6f-b70bfde1ec1c",
   "metadata": {},
   "source": [
    "### Task:\n",
    "\n",
    "\n",
    "Generate a volcano plot. (Hint search for volcano plot online)\n",
    "\n",
    "Determine the upregulated genes (Genes with Log2FC > 1 and pvalue < 0.01)\n",
    "\n",
    "Determine the downregulated genes (Genes with Log2FC < -1 and pvalue < 0.01)\n",
    "\n",
    "What are the functions of the top 5 upregulated genes and top 5 downregulated genes. (Use genecards)"
   ]
  },
  {
   "cell_type": "code",
   "execution_count": 8,
   "id": "b83a96b4-55eb-4c8a-a4e7-d5d70c2e395d",
   "metadata": {},
   "outputs": [],
   "source": [
    "# Import necessary libraries\n",
    "import pandas as pd\n",
    "import numpy as np\n",
    "import matplotlib.pyplot as plt\n",
    "import seaborn as sns"
   ]
  },
  {
   "cell_type": "markdown",
   "id": "afc2807e-f4e8-4188-8ca3-a429d4b56684",
   "metadata": {},
   "source": [
    "###  Loading dataset to be used for analysis"
   ]
  },
  {
   "cell_type": "code",
   "execution_count": 19,
   "id": "100d0385-41d0-462e-b2da-bef59585d721",
   "metadata": {},
   "outputs": [
    {
     "data": {
      "text/html": [
       "<div>\n",
       "<style scoped>\n",
       "    .dataframe tbody tr th:only-of-type {\n",
       "        vertical-align: middle;\n",
       "    }\n",
       "\n",
       "    .dataframe tbody tr th {\n",
       "        vertical-align: top;\n",
       "    }\n",
       "\n",
       "    .dataframe thead th {\n",
       "        text-align: right;\n",
       "    }\n",
       "</style>\n",
       "<table border=\"1\" class=\"dataframe\">\n",
       "  <thead>\n",
       "    <tr style=\"text-align: right;\">\n",
       "      <th></th>\n",
       "      <th>Gene</th>\n",
       "      <th>log2FoldChange</th>\n",
       "      <th>pvalue</th>\n",
       "      <th>padj</th>\n",
       "    </tr>\n",
       "  </thead>\n",
       "  <tbody>\n",
       "    <tr>\n",
       "      <th>0</th>\n",
       "      <td>DOK6</td>\n",
       "      <td>0.5100</td>\n",
       "      <td>1.861000e-08</td>\n",
       "      <td>0.000305</td>\n",
       "    </tr>\n",
       "    <tr>\n",
       "      <th>1</th>\n",
       "      <td>TBX5</td>\n",
       "      <td>-2.1290</td>\n",
       "      <td>5.655000e-08</td>\n",
       "      <td>0.000419</td>\n",
       "    </tr>\n",
       "    <tr>\n",
       "      <th>2</th>\n",
       "      <td>SLC32A1</td>\n",
       "      <td>0.9003</td>\n",
       "      <td>7.664000e-08</td>\n",
       "      <td>0.000419</td>\n",
       "    </tr>\n",
       "    <tr>\n",
       "      <th>3</th>\n",
       "      <td>IFITM1</td>\n",
       "      <td>-1.6870</td>\n",
       "      <td>3.735000e-06</td>\n",
       "      <td>0.006809</td>\n",
       "    </tr>\n",
       "    <tr>\n",
       "      <th>4</th>\n",
       "      <td>NUP93</td>\n",
       "      <td>0.3659</td>\n",
       "      <td>3.373000e-06</td>\n",
       "      <td>0.006809</td>\n",
       "    </tr>\n",
       "  </tbody>\n",
       "</table>\n",
       "</div>"
      ],
      "text/plain": [
       "      Gene  log2FoldChange        pvalue      padj\n",
       "0     DOK6          0.5100  1.861000e-08  0.000305\n",
       "1     TBX5         -2.1290  5.655000e-08  0.000419\n",
       "2  SLC32A1          0.9003  7.664000e-08  0.000419\n",
       "3   IFITM1         -1.6870  3.735000e-06  0.006809\n",
       "4    NUP93          0.3659  3.373000e-06  0.006809"
      ]
     },
     "execution_count": 19,
     "metadata": {},
     "output_type": "execute_result"
    }
   ],
   "source": [
    "# Load dataset from URL\n",
    "url = \"https://gist.githubusercontent.com/stephenturner/806e31fce55a8b7175af/raw/1a507c4c3f9f1baaa3a69187223ff3d3050628d4/results.txt\"\n",
    "df = pd.read_csv(url, sep= r'\\s+') # Reads the data from the URL and splits it into columns based on one or more spaces/tabs.\n",
    "\n",
    "df.head() #print the first few rows of the dataset"
   ]
  },
  {
   "cell_type": "markdown",
   "id": "1049f7c2-1a71-42fa-acd3-eee94ed3890d",
   "metadata": {},
   "source": [
    "### Data Exploration and Cleaning"
   ]
  },
  {
   "cell_type": "code",
   "execution_count": 20,
   "id": "8389ebd1-6476-4a1c-92c6-675ca9a9ee0c",
   "metadata": {},
   "outputs": [
    {
     "data": {
      "text/plain": [
       "<bound method DataFrame.info of           Gene  log2FoldChange        pvalue      padj\n",
       "0         DOK6        0.510000  1.861000e-08  0.000305\n",
       "1         TBX5       -2.129000  5.655000e-08  0.000419\n",
       "2      SLC32A1        0.900300  7.664000e-08  0.000419\n",
       "3       IFITM1       -1.687000  3.735000e-06  0.006809\n",
       "4        NUP93        0.365900  3.373000e-06  0.006809\n",
       "...        ...             ...           ...       ...\n",
       "16401     PKLR       -0.000191  9.996000e-01  0.999900\n",
       "16402    OBFC1       -0.000046  9.998000e-01  0.999900\n",
       "16403    FKBP8       -0.000055  9.997000e-01  0.999900\n",
       "16404     LRMP       -0.000037  9.999000e-01  1.000000\n",
       "16405     OXSM        0.000009  1.000000e+00  1.000000\n",
       "\n",
       "[16406 rows x 4 columns]>"
      ]
     },
     "execution_count": 20,
     "metadata": {},
     "output_type": "execute_result"
    }
   ],
   "source": [
    "#Get information about the dataset\n",
    "df.info"
   ]
  },
  {
   "cell_type": "code",
   "execution_count": 23,
   "id": "7bd8a234-229a-46b9-bcb9-0db92ac75ff0",
   "metadata": {},
   "outputs": [
    {
     "data": {
      "text/plain": [
       "(16406, 4)"
      ]
     },
     "execution_count": 23,
     "metadata": {},
     "output_type": "execute_result"
    }
   ],
   "source": [
    "df.shape"
   ]
  },
  {
   "cell_type": "markdown",
   "id": "c8a2a438-7e3d-438e-a6e2-cbd6eeafe06f",
   "metadata": {},
   "source": [
    "The dataset has 16,406 rows/observations and 4 columns/features"
   ]
  },
  {
   "cell_type": "code",
   "execution_count": 26,
   "id": "358c7165-cfb7-4da9-ba11-838f63544d02",
   "metadata": {},
   "outputs": [
    {
     "name": "stdout",
     "output_type": "stream",
     "text": [
      "       log2FoldChange        pvalue          padj\n",
      "count    16406.000000  1.640600e+04  16406.000000\n",
      "mean        -0.035081  5.207783e-01      0.976360\n",
      "std          0.290955  2.903898e-01      0.100181\n",
      "min         -2.129000  1.861000e-08      0.000305\n",
      "25%         -0.178875  2.771000e-01      0.999400\n",
      "50%         -0.007856  5.393000e-01      0.999400\n",
      "75%          0.136675  7.734750e-01      0.999400\n",
      "max          1.540000  1.000000e+00      1.000000\n"
     ]
    }
   ],
   "source": [
    "# Summary statistics\n",
    "print(df.describe())"
   ]
  },
  {
   "cell_type": "markdown",
   "id": "64e4c160-86f7-47a7-890d-1104feeebeef",
   "metadata": {},
   "source": [
    "#### Check for missing values in the DataFrame"
   ]
  },
  {
   "cell_type": "code",
   "execution_count": 31,
   "id": "78f497d3-a1ff-49c2-9bc7-ebabd07cb94e",
   "metadata": {},
   "outputs": [
    {
     "name": "stdout",
     "output_type": "stream",
     "text": [
      "Missing values in each column:\n",
      "Gene              0\n",
      "log2FoldChange    0\n",
      "pvalue            0\n",
      "padj              0\n",
      "dtype: int64\n"
     ]
    }
   ],
   "source": [
    "missing_values = df.isnull().sum()\n",
    "print(\"Missing values in each column:\")\n",
    "print(missing_values)"
   ]
  },
  {
   "cell_type": "markdown",
   "id": "d8802632-de55-482c-b551-3cb8f6bc91f7",
   "metadata": {},
   "source": [
    "There are no missing values in the dataset"
   ]
  },
  {
   "cell_type": "markdown",
   "id": "a19e2469-bfb3-45ac-b229-79c5f8254ed5",
   "metadata": {},
   "source": [
    "### Check and count the number of duplicate rows"
   ]
  },
  {
   "cell_type": "code",
   "execution_count": 37,
   "id": "ba4b2218-2c1c-4539-8492-c5dded9ef700",
   "metadata": {},
   "outputs": [
    {
     "name": "stdout",
     "output_type": "stream",
     "text": [
      "Number of duplicate rows: 0\n"
     ]
    }
   ],
   "source": [
    "num_duplicates = df.duplicated().sum()\n",
    "print(f\"Number of duplicate rows: {num_duplicates}\")"
   ]
  },
  {
   "cell_type": "markdown",
   "id": "1c7ff536-c466-42b1-8dc9-c0335bc86b9a",
   "metadata": {},
   "source": [
    "### 1. Generate a Volcano Plot\n",
    "\n",
    "A volcano plot visualizes the relationship between log2FoldChange (x-axis) and -log10(pvalue) (y-axis)."
   ]
  },
  {
   "cell_type": "code",
   "execution_count": 46,
   "id": "8f5945ae-5714-4257-85e5-fbab29bac089",
   "metadata": {},
   "outputs": [
    {
     "data": {
      "text/html": [
       "<div>\n",
       "<style scoped>\n",
       "    .dataframe tbody tr th:only-of-type {\n",
       "        vertical-align: middle;\n",
       "    }\n",
       "\n",
       "    .dataframe tbody tr th {\n",
       "        vertical-align: top;\n",
       "    }\n",
       "\n",
       "    .dataframe thead th {\n",
       "        text-align: right;\n",
       "    }\n",
       "</style>\n",
       "<table border=\"1\" class=\"dataframe\">\n",
       "  <thead>\n",
       "    <tr style=\"text-align: right;\">\n",
       "      <th></th>\n",
       "      <th>Gene</th>\n",
       "      <th>log2FoldChange</th>\n",
       "      <th>pvalue</th>\n",
       "      <th>padj</th>\n",
       "      <th>neg_log10_pvalue</th>\n",
       "    </tr>\n",
       "  </thead>\n",
       "  <tbody>\n",
       "    <tr>\n",
       "      <th>0</th>\n",
       "      <td>DOK6</td>\n",
       "      <td>0.5100</td>\n",
       "      <td>1.861000e-08</td>\n",
       "      <td>0.000305</td>\n",
       "      <td>7.730254</td>\n",
       "    </tr>\n",
       "    <tr>\n",
       "      <th>1</th>\n",
       "      <td>TBX5</td>\n",
       "      <td>-2.1290</td>\n",
       "      <td>5.655000e-08</td>\n",
       "      <td>0.000419</td>\n",
       "      <td>7.247567</td>\n",
       "    </tr>\n",
       "    <tr>\n",
       "      <th>2</th>\n",
       "      <td>SLC32A1</td>\n",
       "      <td>0.9003</td>\n",
       "      <td>7.664000e-08</td>\n",
       "      <td>0.000419</td>\n",
       "      <td>7.115545</td>\n",
       "    </tr>\n",
       "    <tr>\n",
       "      <th>3</th>\n",
       "      <td>IFITM1</td>\n",
       "      <td>-1.6870</td>\n",
       "      <td>3.735000e-06</td>\n",
       "      <td>0.006809</td>\n",
       "      <td>5.427709</td>\n",
       "    </tr>\n",
       "    <tr>\n",
       "      <th>4</th>\n",
       "      <td>NUP93</td>\n",
       "      <td>0.3659</td>\n",
       "      <td>3.373000e-06</td>\n",
       "      <td>0.006809</td>\n",
       "      <td>5.471984</td>\n",
       "    </tr>\n",
       "  </tbody>\n",
       "</table>\n",
       "</div>"
      ],
      "text/plain": [
       "      Gene  log2FoldChange        pvalue      padj  neg_log10_pvalue\n",
       "0     DOK6          0.5100  1.861000e-08  0.000305          7.730254\n",
       "1     TBX5         -2.1290  5.655000e-08  0.000419          7.247567\n",
       "2  SLC32A1          0.9003  7.664000e-08  0.000419          7.115545\n",
       "3   IFITM1         -1.6870  3.735000e-06  0.006809          5.427709\n",
       "4    NUP93          0.3659  3.373000e-06  0.006809          5.471984"
      ]
     },
     "execution_count": 46,
     "metadata": {},
     "output_type": "execute_result"
    }
   ],
   "source": [
    "# Calculate -log10(pvalue) for the y-axis\n",
    "df['neg_log10_pvalue'] = -np.log10(df['pvalue'])\n",
    "df.head(5)"
   ]
  },
  {
   "cell_type": "code",
   "execution_count": 48,
   "id": "a0b4d0eb-864c-4fce-a2fe-7269183080e0",
   "metadata": {},
   "outputs": [
    {
     "data": {
      "image/png": "[encoded data removed]",
      "text/plain": [
       "<Figure size 800x600 with 1 Axes>"
      ]
     },
     "metadata": {},
     "output_type": "display_data"
    }
   ],
   "source": [
    "# Create the volcano plot\n",
    "plt.figure(figsize=(8, 6))  # Set the figure size\n",
    "plt.scatter(df['log2FoldChange'], df['neg_log10_pvalue'], alpha=0.5)  # Create scatter plot\n",
    "plt.xlabel('log2 Fold Change')  # Label for x-axis\n",
    "plt.ylabel('-log10 p-value')  # Label for y-axis\n",
    "plt.title('Volcano Plot')  # Title of the plot\n",
    "\n",
    "# Add threshold lines\n",
    "plt.axvline(x=1, color='red', linestyle='--', linewidth=1)  # Threshold for upregulated genes\n",
    "plt.axvline(x=-1, color='red', linestyle='--', linewidth=1)  # Threshold for downregulated genes\n",
    "plt.axhline(y=-np.log10(0.01), color='blue', linestyle='--', linewidth=1)  # Threshold for significance\n",
    "\n",
    "# Show the plot\n",
    "plt.show()"
   ]
  },
  {
   "cell_type": "markdown",
   "id": "cdb8870a-6300-4b06-8854-6447f730b6cb",
   "metadata": {},
   "source": [
    "### 2. Determine the upregulated genes (Genes with Log2FC > 1 and pvalue < 0.01)"
   ]
  },
  {
   "cell_type": "code",
   "execution_count": 51,
   "id": "c0689515-8949-4bac-86f4-03233cc3143a",
   "metadata": {},
   "outputs": [
    {
     "name": "stdout",
     "output_type": "stream",
     "text": [
      "\n",
      "Upregulated genes:\n",
      "          Gene  log2FoldChange    pvalue      padj  neg_log10_pvalue\n",
      "5      EMILIN2           1.534  0.000003  0.006809          5.526367\n",
      "10      POU3F4           1.181  0.000011  0.015840          4.973875\n",
      "14   LOC285954           1.050  0.000015  0.015920          4.836839\n",
      "15       VEPH1           1.137  0.000022  0.022670          4.655411\n",
      "20       DTHD1           1.540  0.000056  0.043710          4.252278\n",
      "29        PI16           1.495  0.000130  0.077940          3.887060\n",
      "33     GALNTL2           1.075  0.000230  0.110900          3.638650\n",
      "34     C4orf45           1.288  0.000247  0.115900          3.606952\n",
      "37       PDE1B           1.053  0.000336  0.144900          3.474178\n",
      "38        BCAN           1.117  0.000370  0.147700          3.432033\n",
      "56       KCNQ3           1.147  0.000483  0.166500          3.316053\n",
      "74     FAM180B           1.249  0.001146  0.239900          2.940815\n",
      "125      CBLN1           1.066  0.002768  0.350000          2.557834\n",
      "139      TRPM2           1.050  0.003246  0.379800          2.488651\n",
      "151   HEPACAM2           1.116  0.003727  0.399900          2.428641\n",
      "156      CBLN2           1.072  0.003934  0.410500          2.405166\n",
      "177  DPY19L2P3           1.061  0.004480  0.411600          2.348722\n",
      "183      CMTM5           1.096  0.004868  0.434100          2.312649\n",
      "227    PCDHGB7           1.014  0.006713  0.486700          2.173083\n"
     ]
    }
   ],
   "source": [
    "# Upregulated genes\n",
    "upregulated_genes = df[(df['log2FoldChange'] > 1) & (df['pvalue'] < 0.01)]\n",
    "print(\"\\nUpregulated genes:\")\n",
    "print(upregulated_genes)"
   ]
  },
  {
   "cell_type": "markdown",
   "id": "8ee209c4-5a5c-41c8-98c7-023b4b72d333",
   "metadata": {},
   "source": [
    "### 3. Determine the downregulated genes (Genes with Log2FC < -1 and pvalue < 0.01)"
   ]
  },
  {
   "cell_type": "code",
   "execution_count": 54,
   "id": "ee89d5d6-a81e-4a86-970c-3eb8f0a524b3",
   "metadata": {},
   "outputs": [
    {
     "name": "stdout",
     "output_type": "stream",
     "text": [
      "\n",
      "Downregulated genes:\n",
      "       Gene  log2FoldChange        pvalue      padj  neg_log10_pvalue\n",
      "1      TBX5          -2.129  5.655000e-08  0.000419          7.247567\n",
      "3    IFITM1          -1.687  3.735000e-06  0.006809          5.427709\n",
      "7     LAMA2          -1.425  2.390000e-06  0.006809          5.621602\n",
      "8      CAV2          -1.052  3.213000e-06  0.006809          5.493089\n",
      "9       TNN          -1.658  8.973000e-06  0.014720          5.047062\n",
      "..      ...             ...           ...       ...               ...\n",
      "230  SLFN11          -1.060  6.835000e-03  0.487200          2.165261\n",
      "233   CDCP1          -1.047  7.063000e-03  0.493100          2.151011\n",
      "237     A2M          -1.048  7.190000e-03  0.493500          2.143271\n",
      "242   SNAI1          -1.023  7.250000e-03  0.493500          2.139662\n",
      "261   L1TD1          -1.033  8.321000e-03  0.520600          2.079824\n",
      "\n",
      "[91 rows x 5 columns]\n"
     ]
    }
   ],
   "source": [
    "# Downregulated genes\n",
    "downregulated_genes = df[(df['log2FoldChange'] < -1) & (df['pvalue'] < 0.01)]\n",
    "print(\"\\nDownregulated genes:\")\n",
    "print(downregulated_genes)"
   ]
  },
  {
   "cell_type": "markdown",
   "id": "7d4b2802-6f10-486e-99b1-9e200990d13a",
   "metadata": {},
   "source": [
    "\n",
    "### 4. What are the functions of the top 5 upregulated genes and top 5 downregulated genes. (Use genecards)"
   ]
  },
  {
   "cell_type": "code",
   "execution_count": 58,
   "id": "90bd0dfd-5ba6-47ff-ad73-12dcdcda3a1d",
   "metadata": {},
   "outputs": [
    {
     "name": "stdout",
     "output_type": "stream",
     "text": [
      "\n",
      "Top 5 upregulated genes:\n",
      "       Gene  log2FoldChange    pvalue\n",
      "20    DTHD1           1.540  0.000056\n",
      "5   EMILIN2           1.534  0.000003\n",
      "29     PI16           1.495  0.000130\n",
      "34  C4orf45           1.288  0.000247\n",
      "74  FAM180B           1.249  0.001146\n"
     ]
    }
   ],
   "source": [
    "# Top 5 upregulated genes\n",
    "top5_upregulated = upregulated_genes.nlargest(5, 'log2FoldChange')\n",
    "print(\"\\nTop 5 upregulated genes:\")\n",
    "print(top5_upregulated[['Gene', 'log2FoldChange', 'pvalue']])"
   ]
  },
  {
   "cell_type": "markdown",
   "id": "3c31fbac-9664-44c0-a8a9-8472f5cb9c64",
   "metadata": {},
   "source": [
    "### The functions of the top 5 upregulated genes\n",
    "\n",
    "To find the functions of these genes, visit https://www.genecards.org/ and search for each gene name."
   ]
  },
  {
   "cell_type": "code",
   "execution_count": 61,
   "id": "3e79cd3e-c4c9-4b84-87af-9156e9640b01",
   "metadata": {},
   "outputs": [
    {
     "name": "stdout",
     "output_type": "stream",
     "text": [
      "Upregulated Gene Functions:\n",
      "{'Upreg_gene1': {'gene': 'DTHD1', 'Function': 'Encodes a protein which contains a death domain. Death domain-containing proteins function in signaling pathways and formation of signaling complexes, as well as the apoptosis pathway. Alternative splicing results in multiple transcript variants.'}, 'Upreg_gene2': {'gene': 'EMILIN2', 'Function': 'Involved in extracellular matrix organization and angiogenesis. Plays a role in positive regulation of defense response to bacterium and platelet aggregation. Located in the extracellular region.'}, 'Upreg_gene3': {'gene': 'PI16', 'Function': 'Encodes a peptidase inhibitor involved in extracellular matrix organization. Predicted to be located in the extracellular region and active in extracellular space.'}, 'Upreg_gene4': {'gene': 'C4orf45', 'Function': 'Encodes a protein with currently unknown function. Expressed in various tissues, including the brain and testes.'}, 'Upreg_gene5': {'gene': 'FAM180B', 'Function': 'Predicted to be located in the extracellular region. Function is largely unknown.'}}\n"
     ]
    }
   ],
   "source": [
    "# Corrected nested dictionary to store gene functions\n",
    "upregulated_gene_functions = {\n",
    "    'Upreg_gene1': {\n",
    "        'gene': 'DTHD1',\n",
    "        'Function': 'Encodes a protein which contains a death domain. Death domain-containing proteins function in signaling pathways and formation of signaling complexes, as well as the apoptosis pathway. Alternative splicing results in multiple transcript variants.',\n",
    "    },\n",
    "    'Upreg_gene2': {\n",
    "        'gene': 'EMILIN2',\n",
    "        'Function': 'Involved in extracellular matrix organization and angiogenesis. Plays a role in positive regulation of defense response to bacterium and platelet aggregation. Located in the extracellular region.',\n",
    "    },\n",
    "    'Upreg_gene3': {\n",
    "        'gene': 'PI16',\n",
    "        'Function': 'Encodes a peptidase inhibitor involved in extracellular matrix organization. Predicted to be located in the extracellular region and active in extracellular space.',\n",
    "    },\n",
    "    'Upreg_gene4': {\n",
    "        'gene': 'C4orf45',\n",
    "        'Function': 'Encodes a protein with currently unknown function. Expressed in various tissues, including the brain and testes.',\n",
    "    },\n",
    "    'Upreg_gene5': {\n",
    "        'gene': 'FAM180B',\n",
    "        'Function': 'Predicted to be located in the extracellular region. Function is largely unknown.',\n",
    "    }\n",
    "}\n",
    "\n",
    "# Display the corrected nested dictionary\n",
    "print(\"Upregulated Gene Functions:\")\n",
    "print(upregulated_gene_functions)"
   ]
  },
  {
   "cell_type": "code",
   "execution_count": 63,
   "id": "6c35aecf-501c-43ee-a63b-ab4d4b3204c8",
   "metadata": {},
   "outputs": [
    {
     "name": "stdout",
     "output_type": "stream",
     "text": [
      "\n",
      "Top 5 downregulated genes:\n",
      "       Gene  log2FoldChange        pvalue\n",
      "1      TBX5          -2.129  5.655000e-08\n",
      "3    IFITM1          -1.687  3.735000e-06\n",
      "9       TNN          -1.658  8.973000e-06\n",
      "11  COL13A1          -1.647  1.394000e-05\n",
      "12   IFITM3          -1.610  1.202000e-05\n"
     ]
    }
   ],
   "source": [
    "# Top 5 downregulated genes\n",
    "top5_downregulated = downregulated_genes.nsmallest(5, 'log2FoldChange')\n",
    "print(\"\\nTop 5 downregulated genes:\")\n",
    "print(top5_downregulated[['Gene', 'log2FoldChange', 'pvalue']])"
   ]
  },
  {
   "cell_type": "markdown",
   "id": "6784f1f3-2b25-4f8b-a344-d36e349a8637",
   "metadata": {},
   "source": [
    "### The functions of the top 5 downregulated genes\n",
    "\n",
    "To find the functions of these genes, visit https://www.genecards.org/ and search for each gene name."
   ]
  },
  {
   "cell_type": "code",
   "execution_count": 66,
   "id": "ff521c5d-e89f-443a-a10a-4ccd07276225",
   "metadata": {},
   "outputs": [
    {
     "name": "stdout",
     "output_type": "stream",
     "text": [
      "Downregulated Gene Functions:\n",
      "{'Downreg_gene1': {'gene': 'TNFRSF10B', 'Function': 'Encodes a member of the TNF-receptor superfamily. This receptor is involved in apoptosis and can activate NF-kappaB and MAPK8/JNK signaling pathways.'}, 'Downreg_gene2': {'gene': 'CDKN1A', 'Function': 'Encodes a cyclin-dependent kinase inhibitor that regulates cell cycle progression. It is involved in cell cycle arrest and apoptosis.'}, 'Downreg_gene3': {'gene': 'GADD45A', 'Function': 'Encodes a protein involved in DNA repair, cell cycle arrest, and apoptosis. It is induced by stress signals such as DNA damage.'}, 'Downreg_gene4': {'gene': 'TP53I3', 'Function': 'Encodes a protein that is induced by TP53 and involved in oxidative stress response and apoptosis.'}, 'Downreg_gene5': {'gene': 'FAS', 'Function': 'Encodes a cell surface receptor that mediates apoptosis when bound to its ligand. It is involved in immune system regulation.'}}\n"
     ]
    }
   ],
   "source": [
    "# Create a nested dictionary to store gene functions\n",
    "downregulated_gene_functions = {\n",
    "    'Downreg_gene1': {\n",
    "        'gene': 'TNFRSF10B',\n",
    "        'Function': 'Encodes a member of the TNF-receptor superfamily. This receptor is involved in apoptosis and can activate NF-kappaB and MAPK8/JNK signaling pathways.',\n",
    "    },\n",
    "    'Downreg_gene2': {\n",
    "        'gene': 'CDKN1A',\n",
    "        'Function': 'Encodes a cyclin-dependent kinase inhibitor that regulates cell cycle progression. It is involved in cell cycle arrest and apoptosis.',\n",
    "    },\n",
    "    'Downreg_gene3': {\n",
    "        'gene': 'GADD45A',\n",
    "        'Function': 'Encodes a protein involved in DNA repair, cell cycle arrest, and apoptosis. It is induced by stress signals such as DNA damage.',\n",
    "    },\n",
    "    'Downreg_gene4': {\n",
    "        'gene': 'TP53I3',\n",
    "        'Function': 'Encodes a protein that is induced by TP53 and involved in oxidative stress response and apoptosis.',\n",
    "    },\n",
    "    'Downreg_gene5': {\n",
    "        'gene': 'FAS',\n",
    "        'Function': 'Encodes a cell surface receptor that mediates apoptosis when bound to its ligand. It is involved in immune system regulation.',\n",
    "    }\n",
    "}\n",
    "\n",
    "# Display the nested dictionary\n",
    "print(\"Downregulated Gene Functions:\")\n",
    "print(downregulated_gene_functions)"
   ]
  },
  {
   "cell_type": "code",
   "execution_count": null,
   "id": "ac00eb26-fbd8-4e41-8c22-10b6a4ff0b94",
   "metadata": {},
   "outputs": [],
   "source": []
  }
 ],
 "metadata": {
  "kernelspec": {
   "display_name": "Python [conda env:base] *",
   "language": "python",
   "name": "conda-base-py"
  },
  "language_info": {
   "codemirror_mode": {
    "name": "ipython",
    "version": 3
   },
   "file_extension": ".py",
   "mimetype": "text/x-python",
   "name": "python",
   "nbconvert_exporter": "python",
   "pygments_lexer": "ipython3",
   "version": "3.12.7"
  }
 },
 "nbformat": 4,
 "nbformat_minor": 5
}
